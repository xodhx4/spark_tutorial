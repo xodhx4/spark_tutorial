{
 "cells": [
  {
   "cell_type": "markdown",
   "metadata": {
    "slideshow": {
     "slide_type": "slide"
    }
   },
   "source": [
    "# 빅데이터와 스파크\n",
    "## 엔지니어링 12기 김태오"
   ]
  },
  {
   "cell_type": "markdown",
   "metadata": {
    "slideshow": {
     "slide_type": "slide"
    }
   },
   "source": [
    "## 우리가 데이터로 하는일\n",
    "### 비즈니스 인텔리전스\n",
    "### 데이터 마이닝\n",
    "### 인공지능\n"
   ]
  },
  {
   "cell_type": "markdown",
   "metadata": {
    "slideshow": {
     "slide_type": "subslide"
    }
   },
   "source": [
    "## 비즈니스 인텔리전스\n",
    "### 데이터 시각화 및 분석 등으로 경영의 의사결정에 도움을 주는 일\n",
    "디자인팀\n"
   ]
  },
  {
   "cell_type": "markdown",
   "metadata": {
    "slideshow": {
     "slide_type": "subslide"
    }
   },
   "source": [
    "## 데이터 마이닝\n",
    "### \"통계 분석과 머신러닝 등을 이용하여 데이터로 부터 가치를 찾아내는 일\"\n",
    "사이언스팀"
   ]
  },
  {
   "cell_type": "markdown",
   "metadata": {
    "slideshow": {
     "slide_type": "subslide"
    }
   },
   "source": [
    "## 인공지능\n",
    "### 데이터를 학습하여 인공지능을 만드는 일\n",
    "사이언스팀"
   ]
  },
  {
   "cell_type": "markdown",
   "metadata": {
    "slideshow": {
     "slide_type": "slide"
    }
   },
   "source": [
    "## 빅데이터의 어려움\n",
    "- ### 데이터의 분석 방법의 어려움\n",
    "- ### 데이터 처리의 어려움"
   ]
  },
  {
   "cell_type": "markdown",
   "metadata": {
    "slideshow": {
     "slide_type": "subslide"
    }
   },
   "source": [
    "### 데이터 처리의 어려움\n",
    "#### 빅데이터를 처리하기위해 매우 좋은 컴퓨터가 필요\n",
    "- 우리 노트북에서 100G csv 파일 pandas로 분석하기 가능?\n",
    "- 사용하는 일부만 메모리(RAM)에 올려놓고 나머지는 디스크에 저장\n",
    "- 디스크와 메모리 사이의 교체가 끊임없이 발생\n",
    "- 접근 속도 : 디스크 <<< 메모리\n",
    "- 메모리에 모두 올려놓고 쓰는 것 보다 훨씬 오래걸림"
   ]
  },
  {
   "cell_type": "markdown",
   "metadata": {
    "slideshow": {
     "slide_type": "subslide"
    }
   },
   "source": [
    "### 데이터 처리의 어려움\n",
    "#### 빅데이터를 처리하기위해 매우 좋은 컴퓨터가 필요\n",
    "- 한 대의 좋은 컴퓨터 vs 적당한 여러대 컴퓨터\n",
    "- 128G 램 구하기 vs 16G 램 8개 구하기\n",
    "- 여러 대의 컴퓨터를 사용하는게 더 현실성있다(비용적으로)\n",
    "#### 여러 대의 컴퓨터에서 동시에 처리하자! -> 분산처리"
   ]
  },
  {
   "cell_type": "markdown",
   "metadata": {
    "slideshow": {
     "slide_type": "slide"
    }
   },
   "source": [
    "# There is no magic in Computer Science"
   ]
  },
  {
   "cell_type": "markdown",
   "metadata": {
    "slideshow": {
     "slide_type": "subslide"
    }
   },
   "source": [
    "#### 이 코드를 어떻게 여러 컴퓨터에서 처리되게 나눌 수 있을까?"
   ]
  },
  {
   "cell_type": "code",
   "execution_count": 21,
   "metadata": {
    "slideshow": {
     "slide_type": "fragment"
    }
   },
   "outputs": [
    {
     "name": "stdout",
     "output_type": "stream",
     "text": [
      "1\n",
      "2505\n",
      "Success Odd\n"
     ]
    }
   ],
   "source": [
    "import random\n",
    "is_odd = random.randint(0, 1)\n",
    "print(is_odd)\n",
    "\n",
    "sum = 0\n",
    "for i in range(100):\n",
    "    sum += random.randint(0, i)\n",
    "print(sum)\n",
    "\n",
    "if is_odd and sum%2 is 1: print(\"Success Odd\")\n",
    "elif not is_odd and sum%2 is 0: print(\"Suceess Even\")\n",
    "else: print(\"Fail\")"
   ]
  },
  {
   "cell_type": "markdown",
   "metadata": {
    "slideshow": {
     "slide_type": "subslide"
    }
   },
   "source": [
    "### 병렬처리의 어려움\n",
    "#### Multi Threading, Multi Processing\n",
    "- 일반적으로 프로그램의 성능을 높이기 위해 한 컴퓨터에서 사용하는 방법\n",
    "- 어렵다\n",
    "\n",
    "#### 분산처리\n",
    "- 한 개의 프로그램을 여러 컴퓨터에서 처리하는 방법\n",
    "- 더욱 더 어렵다"
   ]
  },
  {
   "cell_type": "markdown",
   "metadata": {
    "slideshow": {
     "slide_type": "subslide"
    }
   },
   "source": [
    "## 왜 어려울까?\n",
    "- 프로그램은 어떻게 나누지?\n",
    "- 서로 다른 컴퓨터끼리 데이터는 어떻게 공유하지?\n",
    "- 만약 한 컴퓨터가 죽으면?\n",
    "- 컴퓨터끼리 어떻게 데이터를 나눠서 저장할까?"
   ]
  },
  {
   "cell_type": "markdown",
   "metadata": {
    "slideshow": {
     "slide_type": "subslide"
    }
   },
   "source": [
    "## 그럼..."
   ]
  },
  {
   "cell_type": "markdown",
   "metadata": {
    "slideshow": {
     "slide_type": "fragment"
    }
   },
   "source": [
    "### 하지마...?"
   ]
  },
  {
   "cell_type": "markdown",
   "metadata": {
    "slideshow": {
     "slide_type": "slide"
    }
   },
   "source": [
    "# There is magic in Bigdata"
   ]
  },
  {
   "cell_type": "markdown",
   "metadata": {
    "slideshow": {
     "slide_type": "fragment"
    }
   },
   "source": [
    "### 여러 개의 컴퓨터를 한 개의 컴퓨터처럼 사용하게 해주는 프레임워크의 등장 "
   ]
  },
  {
   "cell_type": "markdown",
   "metadata": {
    "slideshow": {
     "slide_type": "subslide"
    }
   },
   "source": [
    "## 스파크"
   ]
  },
  {
   "cell_type": "code",
   "execution_count": 26,
   "metadata": {
    "slideshow": {
     "slide_type": "fragment"
    }
   },
   "outputs": [
    {
     "name": "stdout",
     "output_type": "stream",
     "text": [
      "   _____ ____  ___    ____  __ __\n",
      "  / ___// __ \\/   |  / __ \\/ //_/\n",
      "  \\__ \\/ /_/ / /| | / /_/ / ,<   \n",
      " ___/ / ____/ ___ |/ _, _/ /| |  \n",
      "/____/_/   /_/  |_/_/ |_/_/ |_|  \n",
      "                                 \n",
      "\n"
     ]
    }
   ],
   "source": [
    "from pyfiglet import Figlet\n",
    "\n",
    "f = Figlet(font='slant')\n",
    "print(f.renderText('SPARK'))"
   ]
  },
  {
   "cell_type": "markdown",
   "metadata": {
    "slideshow": {
     "slide_type": "subslide"
    }
   },
   "source": [
    "## 하둡"
   ]
  },
  {
   "cell_type": "code",
   "execution_count": 25,
   "metadata": {
    "slideshow": {
     "slide_type": "fragment"
    }
   },
   "outputs": [
    {
     "name": "stdout",
     "output_type": "stream",
     "text": [
      "    __  _____    ____  ____  ____  ____ \n",
      "   / / / /   |  / __ \\/ __ \\/ __ \\/ __ \\\n",
      "  / /_/ / /| | / / / / / / / / / / /_/ /\n",
      " / __  / ___ |/ /_/ / /_/ / /_/ / ____/ \n",
      "/_/ /_/_/  |_/_____/\\____/\\____/_/      \n",
      "                                        \n",
      "\n"
     ]
    }
   ],
   "source": [
    "print(f.renderText('HADOOP'))"
   ]
  },
  {
   "cell_type": "markdown",
   "metadata": {
    "slideshow": {
     "slide_type": "subslide"
    }
   },
   "source": [
    "### 스파크\n",
    "- #### 여러 대의 컴퓨팅 파워(메모리, CPU)를 한 컴퓨터처럼 사용하게 해준다  \n",
    "\n",
    "### 하둡 HDFS\n",
    "- #### 여러 개의 디스크를 하나의 파일시스템처럼 사용하게 해준다"
   ]
  },
  {
   "cell_type": "markdown",
   "metadata": {
    "slideshow": {
     "slide_type": "fragment"
    }
   },
   "source": [
    "##### 분산처리의 어려움을 해결해준다"
   ]
  },
  {
   "cell_type": "markdown",
   "metadata": {
    "slideshow": {
     "slide_type": "slide"
    }
   },
   "source": [
    "# 오! 정말 좋아요"
   ]
  },
  {
   "cell_type": "markdown",
   "metadata": {
    "slideshow": {
     "slide_type": "fragment"
    }
   },
   "source": [
    "## 내가 배울 필요 없다는 것만 빼면요"
   ]
  },
  {
   "cell_type": "markdown",
   "metadata": {
    "slideshow": {
     "slide_type": "fragment"
    }
   },
   "source": [
    "### 난 데이터 분석가/사이언티스트 할 거라 안배워도 돼요"
   ]
  },
  {
   "cell_type": "markdown",
   "metadata": {
    "slideshow": {
     "slide_type": "subslide"
    }
   },
   "source": [
    "## 데이터 분석가/사이언티스트가 아닌\n",
    "## 빅데이터 분석가/사이언티스트가 되기 위해\n",
    "## 필요합니다."
   ]
  },
  {
   "cell_type": "markdown",
   "metadata": {
    "slideshow": {
     "slide_type": "slide"
    }
   },
   "source": [
    "# 데이터 파이프라인\n",
    "\n",
    "![파이프라인](img/파이프라인.jpg)"
   ]
  },
  {
   "cell_type": "markdown",
   "metadata": {
    "slideshow": {
     "slide_type": "subslide"
    }
   },
   "source": [
    "# 데이터 사이언스와 엔지니어의 역할\n",
    "![역할](img/역할.jpg)"
   ]
  },
  {
   "cell_type": "markdown",
   "metadata": {
    "slideshow": {
     "slide_type": "slide"
    }
   },
   "source": [
    "# 만약 당신이 데이터 분석가로 취직을 한다면?"
   ]
  },
  {
   "cell_type": "markdown",
   "metadata": {
    "slideshow": {
     "slide_type": "subslide"
    }
   },
   "source": [
    "## 이미 파이프 라인이 잘 짜진 대기업에 취직하여 분석만 하는 경우\n"
   ]
  },
  {
   "cell_type": "markdown",
   "metadata": {
    "slideshow": {
     "slide_type": "fragment"
    }
   },
   "source": [
    "- 그만큼 데이터를 많이 수집하는 회사일 가능성이 크다\n",
    "- SKT의 경우 하루의 로그 양만 2TB\n",
    "- 이걸 pandas로 돌린다?\n",
    "- spark를 사용할 수 있게 jupyter notebook을 제공\n"
   ]
  },
  {
   "cell_type": "markdown",
   "metadata": {
    "slideshow": {
     "slide_type": "subslide"
    }
   },
   "source": [
    "## 데이터 파이프라인이 잘 짜여지지 않은 회사인 경우"
   ]
  },
  {
   "cell_type": "markdown",
   "metadata": {
    "slideshow": {
     "slide_type": "fragment"
    }
   },
   "source": [
    "- 엑셀 이용해서 하고 있을 수도..\n",
    "- 데이터 분석가여도, 엔지니어링 역할까지 해야할 가능성이 높다.\n",
    "- 아모레퍼시픽, 롯데 백화점 등등"
   ]
  }
 ],
 "metadata": {
  "celltoolbar": "Slideshow",
  "kernelspec": {
   "display_name": "Python 3",
   "language": "python",
   "name": "python3"
  },
  "language_info": {
   "codemirror_mode": {
    "name": "ipython",
    "version": 3
   },
   "file_extension": ".py",
   "mimetype": "text/x-python",
   "name": "python",
   "nbconvert_exporter": "python",
   "pygments_lexer": "ipython3",
   "version": "3.7.1"
  }
 },
 "nbformat": 4,
 "nbformat_minor": 2
}
